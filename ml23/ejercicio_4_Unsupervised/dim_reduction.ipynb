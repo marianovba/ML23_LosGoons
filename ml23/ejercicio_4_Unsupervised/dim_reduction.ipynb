{
 "cells": [
  {
   "cell_type": "markdown",
   "metadata": {},
   "source": [
    "# Ejercicio 3: Reducción de dimensionalidad\n",
    "En este ejercicio exploraremos el uso de PCA y t-SNE usando las librerias de scikit-learn. \n",
    "Específicamente, reduciremos la dimensionalidad de los datos para analizar cuando un tumor es benigno o maligno.\n",
    "\n",
    "Para entender el uso de estos metodos con scikit-learn, puedes consultar la documentación oficial de scikit-learn para [PCA](https://scikit-learn.org/stable/modules/generated/sklearn.decomposition.PCA.html)\n",
    "\n",
    "En este ejercicio:\n",
    "\n",
    "1. Utilizarás y explorarás un dataset de clasificación de tumores\n",
    "2. Utilizarás PCA para poder visualizar tus datos de 30 variables en 2 dimensiones\n",
    "3. Analizarás la proyección de tus datos a una dimensionalidad más baja"
   ]
  },
  {
   "cell_type": "markdown",
   "metadata": {},
   "source": [
    "## 1. Explorando tus datos\n",
    "En las siguientes celdas, cargamos el dataset que utilizamos en el ejercicio de regresión logística. Este es un conjunto de datos de clasificación, donde cada punto tiene 30 atributos o variables de entrada. Corre la siguiente celda para cargar el dataset y separar los datos en entrenamiento y prueba."
   ]
  },
  {
   "cell_type": "code",
   "execution_count": 4,
   "metadata": {},
   "outputs": [
    {
     "name": "stdout",
     "output_type": "stream",
     "text": [
      "Datos originales de dimensionalidad (426, 30)\n"
     ]
    }
   ],
   "source": [
    "import numpy as np\n",
    "import matplotlib.pyplot as plt\n",
    "from sklearn.datasets import load_breast_cancer\n",
    "from sklearn.model_selection import train_test_split\n",
    "\n",
    "# En esta ocasión leeremos el dataset como un dataframe de pandas\n",
    "dataset = load_breast_cancer(as_frame=True)\n",
    "data_train, data_test, target_train, target_test = train_test_split(\n",
    "    dataset['data'], \n",
    "    dataset['target'], \n",
    "    test_size=0.25,\n",
    "    random_state=10\n",
    ")\n",
    "print(f\"Datos originales de dimensionalidad {data_train.shape}\")"
   ]
  },
  {
   "cell_type": "markdown",
   "metadata": {},
   "source": [
    "Podemos imprimir los primeros tres renglones de nuestros datos. Esto nos sevirá para identificar como son los datos originales antes de aplicar la reducción de dimensionalidad"
   ]
  },
  {
   "cell_type": "code",
   "execution_count": 5,
   "metadata": {},
   "outputs": [
    {
     "name": "stdout",
     "output_type": "stream",
     "text": [
      "Caracteristicas\n",
      "     mean radius  mean texture  mean perimeter  mean area  mean smoothness  \\\n",
      "327        12.03         17.93           76.09      446.0          0.07683   \n",
      "60         10.17         14.88           64.55      311.9          0.11340   \n",
      "260        20.31         27.06          132.90     1288.0          0.10000   \n",
      "\n",
      "     mean compactness  mean concavity  mean concave points  mean symmetry  \\\n",
      "327           0.03892        0.001546             0.005592         0.1382   \n",
      "60            0.08061        0.010840             0.012900         0.2743   \n",
      "260           0.10880        0.151900             0.093330         0.1814   \n",
      "\n",
      "     mean fractal dimension  ...  worst radius  worst texture  \\\n",
      "327                 0.06070  ...         13.07          22.25   \n",
      "60                  0.06960  ...         11.02          17.45   \n",
      "260                 0.05572  ...         24.33          39.16   \n",
      "\n",
      "     worst perimeter  worst area  worst smoothness  worst compactness  \\\n",
      "327            82.74       523.4            0.1013            0.07390   \n",
      "60             69.86       368.6            0.1275            0.09866   \n",
      "260           162.30      1844.0            0.1522            0.29450   \n",
      "\n",
      "     worst concavity  worst concave points  worst symmetry  \\\n",
      "327         0.007732               0.02796          0.2171   \n",
      "60          0.021680               0.02579          0.3557   \n",
      "260         0.378800               0.16970          0.3151   \n",
      "\n",
      "     worst fractal dimension  \n",
      "327                  0.07037  \n",
      "60                   0.08020  \n",
      "260                  0.07999  \n",
      "\n",
      "[3 rows x 30 columns]\n"
     ]
    }
   ],
   "source": [
    "# Visualizar las primeras tres filas\n",
    "print(\"Caracteristicas\")\n",
    "print(data_train.head(3))"
   ]
  },
  {
   "cell_type": "code",
   "execution_count": 6,
   "metadata": {},
   "outputs": [
    {
     "name": "stdout",
     "output_type": "stream",
     "text": [
      "Etiquetas\n",
      "327    1\n",
      "60     1\n",
      "260    0\n",
      "Name: target, dtype: int32\n"
     ]
    }
   ],
   "source": [
    "print(\"Etiquetas\")\n",
    "print(target_train.head(3))"
   ]
  },
  {
   "cell_type": "markdown",
   "metadata": {},
   "source": [
    "### 1.2 Implementación de PCA\n",
    "En clase vimos que la solución de PCA está dada por los vectores propios de la matriz de covarianza. Ya que estós determinan la mejor dirección de proyección según las asunciones del método. Para que esto sea cierto, espera que los datos usados para calcular la matriz de covarianza se encuentren normalizados. La función para normalizar la distribución se encuentra implementada de la siguiente manera:\n",
    "\n"
   ]
  },
  {
   "cell_type": "code",
   "execution_count": 7,
   "metadata": {},
   "outputs": [
    {
     "name": "stdout",
     "output_type": "stream",
     "text": [
      "(426, 2)\n"
     ]
    }
   ],
   "source": [
    "def norm_data(X):\n",
    "    mean = X.mean(0)\n",
    "    std = X.std(0)\n",
    "    X_proc = (X - mean)\n",
    "    new_data = X_proc / std\n",
    "    return new_data\n",
    "\n",
    "feat1, feat2 = \"mean radius\", \"mean compactness\"\n",
    "X = data_train[[feat1, feat2]].to_numpy()\n",
    "X = norm_data(X)\n",
    "print(X.shape)"
   ]
  },
  {
   "cell_type": "markdown",
   "metadata": {},
   "source": [
    "En la siguiente celda, termina el método para calcular los valores y vectores propios de la matríz de covarianza.\n",
    "Recuerda que los vectores propios $v \\in \\mathbb{R}^{D \\times D}$ donde `v_[:, i]` corresponde al vector (columna) propio $v_i$. "
   ]
  },
  {
   "cell_type": "code",
   "execution_count": 21,
   "metadata": {},
   "outputs": [],
   "source": [
    "def get_principal_components(X):\n",
    "    '''\n",
    "        Calcula los vectores y valores propios de una matriz con media cero X\n",
    "        args:\n",
    "            - X  (np.ndarray): Matriz de datos de dimensionalidad N x D\n",
    "        returns:\n",
    "            - eigenvectors (np.ndarray): vectores propios de la matriz de cov. de X.  Dimensionalidad de D x D\n",
    "            - eigenvalues (np.ndarray, dtype=float): valores propios de la matriz de cov. de X en el mismo orden que los vectores propios\n",
    "    '''\n",
    "    x_normalizada = norm_data(X)\n",
    "    sample_cov = np.cov(x_normalizada, rowvar=0)\n",
    "    # TODO: Calcula los vectores propios y regresalos en orden \n",
    "    # del mayor al menor valor propio. \n",
    "    # Investiga:\n",
    "    #   - la función np.argsort\n",
    "    #   - Como invertir una lista en python\n",
    "    eigvecs, eigvals = np.linalg.eig(X)\n",
    "    print(\"Los vectores propios de X en orden descendiente son:\", (-eigvecs).argsort())\n",
    "    print(\"\")\n",
    "    print(\"Los valores propios de X en orden descendiente son:\", (-eigvals).argsort())\n",
    "    return eigvecs, eigvals"
   ]
  },
  {
   "cell_type": "markdown",
   "metadata": {},
   "source": [
    "Una vez implementado el método anterior, corre la siguiente celda para visualizar los vectores propios sobre los datos normalizados"
   ]
  },
  {
   "cell_type": "code",
   "execution_count": 23,
   "metadata": {},
   "outputs": [
    {
     "name": "stdout",
     "output_type": "stream",
     "text": [
      "(426, 2)\n"
     ]
    },
    {
     "ename": "LinAlgError",
     "evalue": "Last 2 dimensions of the array must be square",
     "output_type": "error",
     "traceback": [
      "\u001b[1;31m---------------------------------------------------------------------------\u001b[0m",
      "\u001b[1;31mLinAlgError\u001b[0m                               Traceback (most recent call last)",
      "\u001b[1;32mc:\\Users\\Usuario\\anaconda3\\Repositories\\ML23_LosGoons\\ML23_LosGoons\\ml23\\ejercicio_4_Unsupervised\\dim_reduction.ipynb Cell 12\u001b[0m line \u001b[0;36m6\n\u001b[0;32m      <a href='vscode-notebook-cell:/c%3A/Users/Usuario/anaconda3/Repositories/ML23_LosGoons/ML23_LosGoons/ml23/ejercicio_4_Unsupervised/dim_reduction.ipynb#X14sZmlsZQ%3D%3D?line=3'>4</a>\u001b[0m X \u001b[39m=\u001b[39m norm_data(X)\n\u001b[0;32m      <a href='vscode-notebook-cell:/c%3A/Users/Usuario/anaconda3/Repositories/ML23_LosGoons/ML23_LosGoons/ml23/ejercicio_4_Unsupervised/dim_reduction.ipynb#X14sZmlsZQ%3D%3D?line=4'>5</a>\u001b[0m \u001b[39mprint\u001b[39m(X\u001b[39m.\u001b[39mshape)\n\u001b[1;32m----> <a href='vscode-notebook-cell:/c%3A/Users/Usuario/anaconda3/Repositories/ML23_LosGoons/ML23_LosGoons/ml23/ejercicio_4_Unsupervised/dim_reduction.ipynb#X14sZmlsZQ%3D%3D?line=5'>6</a>\u001b[0m eigvecs, eigvals \u001b[39m=\u001b[39m get_principal_components(X)\n\u001b[0;32m      <a href='vscode-notebook-cell:/c%3A/Users/Usuario/anaconda3/Repositories/ML23_LosGoons/ML23_LosGoons/ml23/ejercicio_4_Unsupervised/dim_reduction.ipynb#X14sZmlsZQ%3D%3D?line=6'>7</a>\u001b[0m \u001b[39mprint\u001b[39m(eigvecs\u001b[39m.\u001b[39mshape)\n\u001b[0;32m      <a href='vscode-notebook-cell:/c%3A/Users/Usuario/anaconda3/Repositories/ML23_LosGoons/ML23_LosGoons/ml23/ejercicio_4_Unsupervised/dim_reduction.ipynb#X14sZmlsZQ%3D%3D?line=7'>8</a>\u001b[0m \u001b[39m# ========== Graficas ===============\u001b[39;00m\n",
      "\u001b[1;32mc:\\Users\\Usuario\\anaconda3\\Repositories\\ML23_LosGoons\\ML23_LosGoons\\ml23\\ejercicio_4_Unsupervised\\dim_reduction.ipynb Cell 12\u001b[0m line \u001b[0;36m1\n\u001b[0;32m     <a href='vscode-notebook-cell:/c%3A/Users/Usuario/anaconda3/Repositories/ML23_LosGoons/ML23_LosGoons/ml23/ejercicio_4_Unsupervised/dim_reduction.ipynb#X14sZmlsZQ%3D%3D?line=10'>11</a>\u001b[0m sample_cov \u001b[39m=\u001b[39m np\u001b[39m.\u001b[39mcov(x_normalizada, rowvar\u001b[39m=\u001b[39m\u001b[39m0\u001b[39m)\n\u001b[0;32m     <a href='vscode-notebook-cell:/c%3A/Users/Usuario/anaconda3/Repositories/ML23_LosGoons/ML23_LosGoons/ml23/ejercicio_4_Unsupervised/dim_reduction.ipynb#X14sZmlsZQ%3D%3D?line=11'>12</a>\u001b[0m \u001b[39m# TODO: Calcula los vectores propios y regresalos en orden \u001b[39;00m\n\u001b[0;32m     <a href='vscode-notebook-cell:/c%3A/Users/Usuario/anaconda3/Repositories/ML23_LosGoons/ML23_LosGoons/ml23/ejercicio_4_Unsupervised/dim_reduction.ipynb#X14sZmlsZQ%3D%3D?line=12'>13</a>\u001b[0m \u001b[39m# del mayor al menor valor propio. \u001b[39;00m\n\u001b[0;32m     <a href='vscode-notebook-cell:/c%3A/Users/Usuario/anaconda3/Repositories/ML23_LosGoons/ML23_LosGoons/ml23/ejercicio_4_Unsupervised/dim_reduction.ipynb#X14sZmlsZQ%3D%3D?line=13'>14</a>\u001b[0m \u001b[39m# Investiga:\u001b[39;00m\n\u001b[0;32m     <a href='vscode-notebook-cell:/c%3A/Users/Usuario/anaconda3/Repositories/ML23_LosGoons/ML23_LosGoons/ml23/ejercicio_4_Unsupervised/dim_reduction.ipynb#X14sZmlsZQ%3D%3D?line=14'>15</a>\u001b[0m \u001b[39m#   - la función np.argsort\u001b[39;00m\n\u001b[0;32m     <a href='vscode-notebook-cell:/c%3A/Users/Usuario/anaconda3/Repositories/ML23_LosGoons/ML23_LosGoons/ml23/ejercicio_4_Unsupervised/dim_reduction.ipynb#X14sZmlsZQ%3D%3D?line=15'>16</a>\u001b[0m \u001b[39m#   - Como invertir una lista en python\u001b[39;00m\n\u001b[1;32m---> <a href='vscode-notebook-cell:/c%3A/Users/Usuario/anaconda3/Repositories/ML23_LosGoons/ML23_LosGoons/ml23/ejercicio_4_Unsupervised/dim_reduction.ipynb#X14sZmlsZQ%3D%3D?line=16'>17</a>\u001b[0m eigenvectors, eigenvalues \u001b[39m=\u001b[39m np\u001b[39m.\u001b[39;49mlinalg\u001b[39m.\u001b[39;49meig(X)\n\u001b[0;32m     <a href='vscode-notebook-cell:/c%3A/Users/Usuario/anaconda3/Repositories/ML23_LosGoons/ML23_LosGoons/ml23/ejercicio_4_Unsupervised/dim_reduction.ipynb#X14sZmlsZQ%3D%3D?line=17'>18</a>\u001b[0m \u001b[39mprint\u001b[39m(\u001b[39m\"\u001b[39m\u001b[39mLos vectores propios de X en orden descendiente son:\u001b[39m\u001b[39m\"\u001b[39m, (\u001b[39m-\u001b[39meigenvectors)\u001b[39m.\u001b[39margsort())\n\u001b[0;32m     <a href='vscode-notebook-cell:/c%3A/Users/Usuario/anaconda3/Repositories/ML23_LosGoons/ML23_LosGoons/ml23/ejercicio_4_Unsupervised/dim_reduction.ipynb#X14sZmlsZQ%3D%3D?line=18'>19</a>\u001b[0m \u001b[39mprint\u001b[39m(\u001b[39m\"\u001b[39m\u001b[39m\"\u001b[39m)\n",
      "File \u001b[1;32m<__array_function__ internals>:200\u001b[0m, in \u001b[0;36meig\u001b[1;34m(*args, **kwargs)\u001b[0m\n",
      "File \u001b[1;32mc:\\Users\\Usuario\\anaconda3\\envs\\ml_env\\lib\\site-packages\\numpy\\linalg\\linalg.py:1297\u001b[0m, in \u001b[0;36meig\u001b[1;34m(a)\u001b[0m\n\u001b[0;32m   1295\u001b[0m a, wrap \u001b[39m=\u001b[39m _makearray(a)\n\u001b[0;32m   1296\u001b[0m _assert_stacked_2d(a)\n\u001b[1;32m-> 1297\u001b[0m _assert_stacked_square(a)\n\u001b[0;32m   1298\u001b[0m _assert_finite(a)\n\u001b[0;32m   1299\u001b[0m t, result_t \u001b[39m=\u001b[39m _commonType(a)\n",
      "File \u001b[1;32mc:\\Users\\Usuario\\anaconda3\\envs\\ml_env\\lib\\site-packages\\numpy\\linalg\\linalg.py:190\u001b[0m, in \u001b[0;36m_assert_stacked_square\u001b[1;34m(*arrays)\u001b[0m\n\u001b[0;32m    188\u001b[0m m, n \u001b[39m=\u001b[39m a\u001b[39m.\u001b[39mshape[\u001b[39m-\u001b[39m\u001b[39m2\u001b[39m:]\n\u001b[0;32m    189\u001b[0m \u001b[39mif\u001b[39;00m m \u001b[39m!=\u001b[39m n:\n\u001b[1;32m--> 190\u001b[0m     \u001b[39mraise\u001b[39;00m LinAlgError(\u001b[39m'\u001b[39m\u001b[39mLast 2 dimensions of the array must be square\u001b[39m\u001b[39m'\u001b[39m)\n",
      "\u001b[1;31mLinAlgError\u001b[0m: Last 2 dimensions of the array must be square"
     ]
    }
   ],
   "source": [
    "feat1, feat2 = \"mean radius\", \"mean compactness\"\n",
    "labels = target_train\n",
    "X = data_train[[feat1, feat2]].to_numpy()\n",
    "X = norm_data(X)\n",
    "print(X.shape)\n",
    "eigvecs, eigvals = get_principal_components(X)\n",
    "print(eigvecs.shape)\n",
    "# ========== Graficas ===============\n",
    "fig, ax = plt.subplots(1, 1, figsize=(3, 3))\n",
    "# Espacio original\n",
    "for c in range(2):\n",
    "    ax.scatter(\n",
    "        X[:, 0][labels == c], \n",
    "        X[:, 1][labels == c], \n",
    "        label = f\"class {c}\"\n",
    "    )\n",
    "\n",
    "# Graficamos los vectores sobrepuestos a los datos en el ax anterior\n",
    "c = ['r','b']\n",
    "for idx_col in range(eigvals.shape[0]):\n",
    "    norm_eig = np.sqrt(eigvals[idx_col])\n",
    "    start_point = np.mean(X, axis=0)\n",
    "    end_point = eigvecs[:, idx_col] * norm_eig\n",
    "    color = c[idx_col]\n",
    "    ax.arrow(*start_point, *end_point, facecolor=color, width = 0.03, head_width = 0.3)\n",
    "ax.axis('equal')\n",
    "ax.set_title('Datos con media cero')\n",
    "ax.set_xlabel(feat1)\n",
    "ax.set_ylabel(feat2)"
   ]
  },
  {
   "cell_type": "markdown",
   "metadata": {},
   "source": [
    "Responde:\n",
    "- Si proyectamos los puntos a ambos vectores propios ¿cual nos dará una mejor separabilidad de clase (azul, rojo)?\n",
    "- Usando la imagen anterior como referencia ¿Cual de los dos vectores propios tiene un mayor valor propio (azul, rojo)? Explica la motivación de tu respuesta."
   ]
  },
  {
   "cell_type": "markdown",
   "metadata": {},
   "source": [
    "#### 1.3 Proyección a una dimensión\n",
    "Ahora que has visto tus datos considerando solo dos variables distintas, vamos a proyectar los datos al primer componente principal ambos para visualizar como se verían en 1 sola dimensión.\n",
    "Completa y corre las siguientes celdas"
   ]
  },
  {
   "cell_type": "code",
   "execution_count": null,
   "metadata": {},
   "outputs": [],
   "source": [
    "normed_data_train = norm_data(data_train)\n",
    "# Datos normalizados (media cero y misma escala)\n",
    "X = normed_data_train[[feat1, feat2]].to_numpy()\n",
    "eigvecs, eigvals = get_principal_components(X)\n",
    "print(eigvecs, eigvals)\n",
    "n = X.shape[0]\n",
    "\n",
    "# TODO: Proyecta los datos al primer componente principal eigvecs[:,0]\n",
    "X_proj1 = ...\n",
    "\n",
    "# TODO: Proyecta los datos al segundo componente principal eigvecs[:,1]\n",
    "X_proj2 = ...\n",
    "\n",
    "assert (X_proj1.shape == X_proj2.shape and X_proj1.squeeze().shape == (n,)), \"Las proyecciones no tienen la dimensionalidad correcta\""
   ]
  },
  {
   "cell_type": "code",
   "execution_count": 24,
   "metadata": {},
   "outputs": [],
   "source": [
    "# ========= Solución de scikit learn ============#\n",
    "from sklearn.decomposition import PCA\n",
    "# TODO: Utiliza la libreria de scikit-learn para reducir X a 1 dimensión\n",
    "# Invesitga PCA en scikit learn\n",
    "reduced_x = PCA(n_components=1)"
   ]
  },
  {
   "cell_type": "markdown",
   "metadata": {},
   "source": [
    "En la siguiente celda, utilizamos tu implementación de pca para graficar la proyección a los componentes principales."
   ]
  },
  {
   "cell_type": "code",
   "execution_count": 25,
   "metadata": {},
   "outputs": [
    {
     "ename": "NameError",
     "evalue": "name 'eigvals' is not defined",
     "output_type": "error",
     "traceback": [
      "\u001b[1;31m---------------------------------------------------------------------------\u001b[0m",
      "\u001b[1;31mNameError\u001b[0m                                 Traceback (most recent call last)",
      "\u001b[1;32mc:\\Users\\Usuario\\anaconda3\\Repositories\\ML23_LosGoons\\ML23_LosGoons\\ml23\\ejercicio_4_Unsupervised\\dim_reduction.ipynb Cell 18\u001b[0m line \u001b[0;36m1\n\u001b[0;32m      <a href='vscode-notebook-cell:/c%3A/Users/Usuario/anaconda3/Repositories/ML23_LosGoons/ML23_LosGoons/ml23/ejercicio_4_Unsupervised/dim_reduction.ipynb#X23sZmlsZQ%3D%3D?line=4'>5</a>\u001b[0m     ax1\u001b[39m.\u001b[39mscatter(\n\u001b[0;32m      <a href='vscode-notebook-cell:/c%3A/Users/Usuario/anaconda3/Repositories/ML23_LosGoons/ML23_LosGoons/ml23/ejercicio_4_Unsupervised/dim_reduction.ipynb#X23sZmlsZQ%3D%3D?line=5'>6</a>\u001b[0m         X[:, \u001b[39m0\u001b[39m][labels \u001b[39m==\u001b[39m c], \n\u001b[0;32m      <a href='vscode-notebook-cell:/c%3A/Users/Usuario/anaconda3/Repositories/ML23_LosGoons/ML23_LosGoons/ml23/ejercicio_4_Unsupervised/dim_reduction.ipynb#X23sZmlsZQ%3D%3D?line=6'>7</a>\u001b[0m         X[:, \u001b[39m1\u001b[39m][labels \u001b[39m==\u001b[39m c], \n\u001b[0;32m      <a href='vscode-notebook-cell:/c%3A/Users/Usuario/anaconda3/Repositories/ML23_LosGoons/ML23_LosGoons/ml23/ejercicio_4_Unsupervised/dim_reduction.ipynb#X23sZmlsZQ%3D%3D?line=7'>8</a>\u001b[0m         label \u001b[39m=\u001b[39m \u001b[39mf\u001b[39m\u001b[39m\"\u001b[39m\u001b[39mclass \u001b[39m\u001b[39m{\u001b[39;00mc\u001b[39m}\u001b[39;00m\u001b[39m\"\u001b[39m\n\u001b[0;32m      <a href='vscode-notebook-cell:/c%3A/Users/Usuario/anaconda3/Repositories/ML23_LosGoons/ML23_LosGoons/ml23/ejercicio_4_Unsupervised/dim_reduction.ipynb#X23sZmlsZQ%3D%3D?line=8'>9</a>\u001b[0m     )\n\u001b[0;32m     <a href='vscode-notebook-cell:/c%3A/Users/Usuario/anaconda3/Repositories/ML23_LosGoons/ML23_LosGoons/ml23/ejercicio_4_Unsupervised/dim_reduction.ipynb#X23sZmlsZQ%3D%3D?line=10'>11</a>\u001b[0m \u001b[39m# Graficamos los vectores sobrepuestos a los datos en el ax anterior\u001b[39;00m\n\u001b[1;32m---> <a href='vscode-notebook-cell:/c%3A/Users/Usuario/anaconda3/Repositories/ML23_LosGoons/ML23_LosGoons/ml23/ejercicio_4_Unsupervised/dim_reduction.ipynb#X23sZmlsZQ%3D%3D?line=11'>12</a>\u001b[0m \u001b[39mfor\u001b[39;00m idx_col \u001b[39min\u001b[39;00m \u001b[39mrange\u001b[39m(eigvals\u001b[39m.\u001b[39mshape[\u001b[39m0\u001b[39m]):\n\u001b[0;32m     <a href='vscode-notebook-cell:/c%3A/Users/Usuario/anaconda3/Repositories/ML23_LosGoons/ML23_LosGoons/ml23/ejercicio_4_Unsupervised/dim_reduction.ipynb#X23sZmlsZQ%3D%3D?line=12'>13</a>\u001b[0m     norm_eig \u001b[39m=\u001b[39m np\u001b[39m.\u001b[39msqrt(eigvals[idx_col])\n\u001b[0;32m     <a href='vscode-notebook-cell:/c%3A/Users/Usuario/anaconda3/Repositories/ML23_LosGoons/ML23_LosGoons/ml23/ejercicio_4_Unsupervised/dim_reduction.ipynb#X23sZmlsZQ%3D%3D?line=13'>14</a>\u001b[0m     start_point \u001b[39m=\u001b[39m np\u001b[39m.\u001b[39mmean(X, axis\u001b[39m=\u001b[39m\u001b[39m0\u001b[39m)\n",
      "\u001b[1;31mNameError\u001b[0m: name 'eigvals' is not defined"
     ]
    },
    {
     "data": {
      "image/png": "[encoded data removed]",
      "text/plain": [
       "<Figure size 1500x300 with 4 Axes>"
      ]
     },
     "metadata": {},
     "output_type": "display_data"
    }
   ],
   "source": [
    "# Recuerda siempre correr la celda anterior antes de correr esta\n",
    "fig, (ax1, ax2, ax3, ax4) = plt.subplots(1, 4, figsize=(15, 3))\n",
    "# Espacio original\n",
    "for c in range(2):\n",
    "    ax1.scatter(\n",
    "        X[:, 0][labels == c], \n",
    "        X[:, 1][labels == c], \n",
    "        label = f\"class {c}\"\n",
    "    )\n",
    "\n",
    "# Graficamos los vectores sobrepuestos a los datos en el ax anterior\n",
    "for idx_col in range(eigvals.shape[0]):\n",
    "    norm_eig = np.sqrt(eigvals[idx_col])\n",
    "    start_point = np.mean(X, axis=0)\n",
    "    end_point = eigvecs[:, idx_col] * norm_eig\n",
    "    ax1.arrow(*start_point, *end_point, width = 0.03, head_width = 0.3)\n",
    "ax1.axis('equal')\n",
    "ax1.set_title('Datos con media cero')\n",
    "ax1.set_xlabel(feat1)\n",
    "ax1.set_ylabel(feat2)\n",
    "\n",
    "for c in range(2):\n",
    "    class_data = X_proj1[labels == c]\n",
    "    N_samples = len(class_data)\n",
    "    ax2.scatter(\n",
    "        class_data, \n",
    "        np.zeros(N_samples), \n",
    "        label = f\"class {c}\"\n",
    "    )\n",
    "ax2.set_title('Proyección al 1er CP')\n",
    "\n",
    "for c in range(2):\n",
    "    class_data = X_proj2[labels == c]\n",
    "    N_samples = len(class_data)\n",
    "    ax3.scatter(\n",
    "        class_data, \n",
    "        np.zeros(N_samples), \n",
    "        label = f\"class {c}\"\n",
    "    )\n",
    "ax3.set_title('Proyección al 2do CP')\n",
    "\n",
    "\n",
    "## Solución de scikit-learn (1 dim)\n",
    "# plot reduced data\n",
    "for c in range(2):\n",
    "    class_idx = np.where(target_train == c)[0]\n",
    "    N_samples = len(class_idx)\n",
    "    ax4.scatter(\n",
    "        reduced_x[class_idx][:,0],\n",
    "        np.zeros(N_samples),\n",
    "        label = f\"class {c}\"\n",
    "    )\n",
    "ax4.set_title('Solución de scikit-learn (1 dimensión)')\n",
    "\n",
    "plt.show()"
   ]
  },
  {
   "cell_type": "markdown",
   "metadata": {},
   "source": [
    "Para la tarea de clasificación responde:\n",
    "- ¿Cual vector propio crees que te permita separar mejor los datos al proyectarse en el? Explica tu intuición.\n",
    "- ¿Se cumple en este caso la asunción de PCA (la importancia de una dimensión está determinada por la varianza de la proyección a la misma)?"
   ]
  },
  {
   "cell_type": "markdown",
   "metadata": {},
   "source": [
    "## 2. Usando PCA para reducir 30 dimensiones a 2\n",
    "\n",
    "En la sección anterior, filtramos nuestros datos originales para quedarnos solo con dos variables. En esta sección consideramos los datos en su estado original, es decir con las 30 variables de entrada. Por su puesto, es imposible visualizarlos de esta forma, por lo tanto usaremos PCA para reducir la dimensionalidad de los datos originales a solo 2 dimensiones para poder visualizarlos.\n",
    "\n",
    "Usando PCA podemos transformar un dataset de $D$ variables proyectándolos a los $K$ vectores propios con los mayores valores propios perdiendo la menor información posible. De esta manera PCA es una función tal que:\n",
    "\n",
    "$X_{orig} \\in \\mathbb{R}^{N \\times D} \\mapsto X_{reduced} \\in \\mathbb{R}^{N \\times 2}$\n",
    "\n",
    "Utiliza la implementación de sklearn para realizar la proyección y graficar los datos proyectados."
   ]
  },
  {
   "cell_type": "code",
   "execution_count": null,
   "metadata": {},
   "outputs": [],
   "source": [
    "from sklearn.decomposition import PCA\n",
    "\n",
    "X = data_train.to_numpy()\n",
    "print(X.shape)\n",
    "output_dims = 2\n",
    "\n",
    "# TODO: Reduce la dimensionalidad de X a --> (N, 2) usando la implementación de PCA de sklearn\n",
    "# No es necesario normalizar los datos\n",
    "#========= START =============#\n",
    "X_low_dim = ...\n",
    "#========== END ==============#\n",
    "\n",
    "assert (X_low_dim.shape[-1] == output_dims), f\"Los datos se estan reduciendo de {X.shape} a {X_low_dim.shape} pero debería ser ({X.shape[0]}, {output_dims})\"\n",
    "print(f\"Scikit learn: Datos originales {X.shape}, Datos proyectados {X_low_dim.shape}\")"
   ]
  },
  {
   "cell_type": "code",
   "execution_count": null,
   "metadata": {},
   "outputs": [],
   "source": [
    "# TODO grafica los datos de dimensionalidad reducida en 2 dimensiones\n",
    "# investiga plt.scatter y np.where\n",
    "fig, ax = plt.subplots(1, 1, figsize=(8, 4))\n",
    "for clase in range(2):\n",
    "    class_idx = np.where(target_train == clase)\n",
    "    ax.scatter(\n",
    "        X_low_dim[class_idx, 0],\n",
    "        X_low_dim[class_idx, 1],\n",
    "        label = f\"class {c}\"\n",
    "    )\n",
    "ax.set_title(\"La solución de scikit-learn\")\n",
    "ax.legend()\n"
   ]
  },
  {
   "cell_type": "markdown",
   "metadata": {},
   "source": [
    "### Otros métodos de reducción de dimensionalidad\n",
    "\n",
    "Como PCA, existen otras alternativas para reducir la dimensionalidad de los datos. Una muy popular es el algoritmo de TSNE.\n",
    "Mientras que ambos métodos sirven el mismo propósito, se utilizan en situaciones distintas. PCA normalmente se utiliza cuando queremos reducir dimensionalidades muy altas, a unas pequeñas por ejemplo reducir de 100 a 50 o 10 dimensiones. \n",
    "\n",
    "Por otro lado TSNE funciona bien cuando tenemos una dimensionalidad relativamente baja (entre 20 y 5 por ejemplo) a una más pequeña que podamos visualizar (por ejemplo entre 3 y 1).\n",
    "TSNE tiene un hiperparámetro adicional a la cantidad de componentes de salida, llamado \"perplexidad\". Si te interesa conocer más sobre TSNE puedes revisar la [documentación de sci-kit learn](https://scikit-learn.org/stable/modules/generated/sklearn.manifold.TSNE.html). TSNE se utiliza principalmente para análisis y visualización.\n"
   ]
  },
  {
   "cell_type": "code",
   "execution_count": null,
   "metadata": {},
   "outputs": [],
   "source": [
    "from sklearn.manifold import TSNE\n",
    "\n",
    "X = data_train.to_numpy()\n",
    "tsne = TSNE(n_components=2, perplexity=50)\n",
    "reduced_x = tsne.fit_transform(X)\n",
    "print(reduced_x.shape)\n",
    "\n",
    "fig, ax = plt.subplots(figsize=(8, 5))\n",
    "for c in range(2):\n",
    "    class_idx = np.where(target_train == c)\n",
    "    ax.scatter(\n",
    "        reduced_x[class_idx, 0],\n",
    "        reduced_x[class_idx,1], \n",
    "        label = f\"class {c}\"\n",
    "    )\n",
    "ax.legend()"
   ]
  },
  {
   "cell_type": "markdown",
   "metadata": {},
   "source": [
    "## 3. Reducción de dimensionalidad aplicado a tareas adicionales\n",
    "PCA normalmente se utiliza cuando queremos visualizar lo que ha aprendido nuestro algoritmo para entradas de alta dimensionalidad. Tenemos dos opciones\n",
    "\n",
    "1. Podemos entrenar con el dataset reducido un algoritmo de clasificación, como regresión logística.\n",
    "2. Podemos entrenar regresión logística en alta dimensionalidad y usar PCA para reducir la dimensionalidad y visualizar el resultado.\n",
    "\n",
    "En ambos casos necesitamos poder reducir la dimensionalidad. En esta sección, utiliza la librería de sklearn para resolver lo que se te indique."
   ]
  },
  {
   "cell_type": "markdown",
   "metadata": {},
   "source": [
    "### 3.1 Entrenando en alta dimensionalidad\n",
    "En las siguientes celdas probaremos analizar la calidad de la predicción si entrenamos en alta y en baja dimensionalidad. Completa la siguiente celda  para generar las predicciones del conjunto de entrenamiento al entrenar en alta y baja dimensionalidad respectivamente."
   ]
  },
  {
   "cell_type": "code",
   "execution_count": null,
   "metadata": {},
   "outputs": [],
   "source": [
    "from sklearn.linear_model import LogisticRegression\n",
    "from sklearn.utils._testing import ignore_warnings\n",
    "from sklearn.exceptions import ConvergenceWarning\n",
    "\n",
    "# ====================  ALTA dimensionalidad ====================#\n",
    "@ignore_warnings(category=ConvergenceWarning)\n",
    "def train_pred_high_dim(x_train, y_train, x_test, y_test, dim_red='PCA'):\n",
    "    # TODO: Entrena un modelo de regresión logística para data_train, target_train en ALTA dimensionalidad\n",
    "\n",
    "    # TODO: Determina las predicciones para x_test\n",
    "    pred =\n",
    "\n",
    "    # TODO: Calcula e imprime el accuracy para la predicción\n",
    "    score = ...\n",
    "    print(\"Accuracy: \", score)\n",
    "\n",
    "    # TODO: Reduce la dimensionalidad de los datos data_test usando PCA y TSNE respectivamente\n",
    "    if dim_red == 'TSNE':\n",
    "        reduced_test = ...\n",
    "    else:\n",
    "        reduced_test = ...\n",
    "    return pred, reduced_test\n"
   ]
  },
  {
   "cell_type": "markdown",
   "metadata": {},
   "source": [
    "La siguiente celda graficará usando tu implementación anterior, las predicciones correctas hechas por el modelo entrenado en alta dimensionalidad para el conjunto de prueba en verde y las predicciones incorrectas en rojo."
   ]
  },
  {
   "cell_type": "code",
   "execution_count": null,
   "metadata": {},
   "outputs": [],
   "source": [
    "def plot_preds(reduced_data, pred, target, ax, title):\n",
    "    c =  np.where(pred == target, 'g', 'r')\n",
    "    ax.scatter(\n",
    "        reduced_data[:, 0],\n",
    "        reduced_data[:, 1],\n",
    "        color = c \n",
    "    )\n",
    "    ax.set_title(title)\n",
    "    return ax\n",
    "\n",
    "# Train set\n",
    "X = data_train.to_numpy()\n",
    "y = target_train.to_numpy()\n",
    "\n",
    "# Test set\n",
    "X_test = data_test.to_numpy()\n",
    "y_test = target_test.to_numpy()\n",
    "\n",
    "fig, ax = plt.subplots(1, 2, figsize=(10, 3), constrained_layout=True)\n",
    "fig.suptitle(f\"Entrenamiento en alta dimensionalidad (correctas -> verde)\", y=1.05)\n",
    "############ Originales #############\n",
    "for c in range(2):\n",
    "    # =========  Visualizacion de predicciones ==== #\n",
    "    pred, reduced_x = train_pred_high_dim(X, y, X_test, y_test, 'PCA')\n",
    "    ax[0] = plot_preds(reduced_x, pred, y_test, ax[0], 'Dimensionalidad reducida con (PCA)')\n",
    "\n",
    "    # Entrenamiento baja dimensionalidad\n",
    "    pred, reduced_x = train_pred_high_dim(X, y, X_test, y_test, 'TSNE')\n",
    "    ax[1] = plot_preds(reduced_x, pred, y_test, ax[1], 'Dimensionalidad reducida con (TSNE)')\n",
    "plt.legend()\n",
    "plt.show()\n",
    "plt.tight_layout()"
   ]
  },
  {
   "cell_type": "markdown",
   "metadata": {},
   "source": [
    "### 3.1 Entrenando en datos reducidos\n",
    "En las siguientes celdas probaremos analizar la calidad de la predicción si entrenamos en alta y en baja dimensionalidad. Completa la siguiente celda  para generar las predicciones del conjunto de entrenamiento al entrenar en alta y baja dimensionalidad respectivamente."
   ]
  },
  {
   "cell_type": "code",
   "execution_count": null,
   "metadata": {},
   "outputs": [],
   "source": [
    "from sklearn.linear_model import LogisticRegression\n",
    "from sklearn.utils._testing import ignore_warnings\n",
    "from sklearn.exceptions import ConvergenceWarning\n",
    "\n",
    "# ====================  BAJA dimensionalidad ====================#\n",
    "@ignore_warnings(category=ConvergenceWarning)\n",
    "def train_pred_low_dim(x_train, y_train, x_test, y_test):\n",
    "    n = x_train.shape[0]\n",
    "    # TODO: Entrena un modelo DE PCA usando x_train para reducir la dimensionalidad a 2 dimensiones\n",
    "    pca = ...\n",
    "    \n",
    "    # TODO: Utiliza el modelo anterior para reducir la dimensionalidad de x_train a N, 2\n",
    "    reduced_train = ...\n",
    "\n",
    "    assert reduced_train.shape == (n, 2), f\"x_train_reduced debería ser {n,2} pero es {reduced_train.shape}\"\n",
    "\n",
    "    # TODO: Entrena un modelo de regresión logística para usando x_train_reduced\n",
    "\n",
    "    # TODO: Reduce la dimensionalidad de los datos data_test usando EL MISMO MODELO de PCA\n",
    "    # que el que usaste para reducir x_train. No lo entrenes de nuevo\n",
    "    reduced_test = ...\n",
    "\n",
    "    # TODO: Determina las predicciones para reduced_test\n",
    "    pred = ...\n",
    "\n",
    "    # TODO: Calcula e imprime el accuracy de la predicción\n",
    "    score = ...\n",
    "    print(f\"Accuracy: {score}\")\n",
    "    return pred, reduced_train, reduced_test"
   ]
  },
  {
   "cell_type": "markdown",
   "metadata": {},
   "source": [
    "Puedes usar la siguiente celda para validar que lo que regresa el código anterior tenga las dimensionalidades esperadas."
   ]
  },
  {
   "cell_type": "code",
   "execution_count": null,
   "metadata": {},
   "outputs": [],
   "source": [
    "# Train set\n",
    "X = data_train.to_numpy()\n",
    "y = target_train.to_numpy()\n",
    "\n",
    "# Test set\n",
    "X_test = data_test.to_numpy()\n",
    "y_test = target_test.to_numpy()\n",
    "\n",
    "fig, ax = plt.subplots(1, 2, figsize=(10, 3), constrained_layout=True)\n",
    "fig.suptitle(f\"Entrenamiento en BAJA dimensionalidad (correctas -> verde)\", y=1.05)\n",
    "############ Originales #############\n",
    "# =========  Visualizacion de predicciones ==== #\n",
    "# Entrenamiento baja dimensionalidad PCA\n",
    "pred, reduced_xtrain, reduced_xtest = train_pred_low_dim(X, y, X_test, y_test)\n",
    "for c in range(2):\n",
    "    # Clases reales\n",
    "    ax[0].scatter(\n",
    "        reduced_xtest[y_test == c][:, 0],\n",
    "        reduced_xtest[y_test == c][:, 1],\n",
    "    )\n",
    "    ax[0].set_title('Clases reales (Ground Truth)')\n",
    "\n",
    "ax[1] = plot_preds(reduced_xtest, pred, y_test, ax[1], 'Dimensionalidad reducida con (PCA)')\n",
    "plt.legend()\n",
    "plt.show()\n",
    "plt.tight_layout()"
   ]
  },
  {
   "cell_type": "markdown",
   "metadata": {},
   "source": [
    "## En las imágenes mostramos:\n",
    "- En verde, los puntos clasificados correctamente\n",
    "- En rojo, los puntos clasificados incorrectamente\n",
    "\n",
    "Considerando las imágenes del entrenamiento de alta y baja dimensionalidad, responde:\n",
    "\n",
    "- Para el ejemplo de regresión logística y clasificación de tumores. ¿Cuál modelo tiene mejor accuracy?¿Funciona mejor entrenar en alta o baja dimensionalidad?\n",
    "- Investiga: ¿Es posible para T-SNE reducir la dimensionalidad de datos nuevos usando el mismo modelo que para los datos de entrenamiento?\n",
    "- ¿Por qué en el entrenamiento de baja dimensionalidad se omite TSNE?\n",
    "- ¿Es posible para PCA reducir la dimensionalidad de datos nuevos usando el mismo modelo que para los datos de entrenamiento?\n",
    "- ¿De que nos puede servir reducir la dimensionalidad de los datos?"
   ]
  }
 ],
 "metadata": {
  "kernelspec": {
   "display_name": "ml",
   "language": "python",
   "name": "python3"
  },
  "language_info": {
   "codemirror_mode": {
    "name": "ipython",
    "version": 3
   },
   "file_extension": ".py",
   "mimetype": "text/x-python",
   "name": "python",
   "nbconvert_exporter": "python",
   "pygments_lexer": "ipython3",
   "version": "3.8.17"
  },
  "orig_nbformat": 4
 },
 "nbformat": 4,
 "nbformat_minor": 2
}
