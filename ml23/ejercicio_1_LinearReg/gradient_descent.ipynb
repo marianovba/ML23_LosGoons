{
 "cells": [
  {
   "attachments": {},
   "cell_type": "markdown",
   "metadata": {},
   "source": [
    "## Descenso de gradiente para regresión lineal\n",
    "\n",
    "En el ejercicio anterior aprendiste regresión lineal y encontraste una solución analítica a través de algebra lineal, ahora resolveremos el mismo problema llegando a la solución de manera iterativa. \n",
    "\n",
    "En la práctica, descenso de gradiente se utiliza en problemas en los que obtener una solución analítica no es posible como regresión logística o redes neuronales."
   ]
  },
  {
   "cell_type": "code",
   "execution_count": 1,
   "metadata": {},
   "outputs": [
    {
     "name": "stdout",
     "output_type": "stream",
     "text": [
      "(200, 2) (100, 2)\n"
     ]
    },
    {
     "data": {
      "text/plain": [
       "<matplotlib.collections.PathCollection at 0x292c29f3690>"
      ]
     },
     "execution_count": 1,
     "metadata": {},
     "output_type": "execute_result"
    },
    {
     "data": {
      "image/png": "[encoded data removed]",
      "text/plain": [
       "<Figure size 640x480 with 1 Axes>"
      ]
     },
     "metadata": {},
     "output_type": "display_data"
    }
   ],
   "source": [
    "%matplotlib inline\n",
    "import numpy as np\n",
    "import matplotlib.pyplot as plt\n",
    "\n",
    "# Nuevamente generamos los datos aleatorios con una desviación estandar conocida\n",
    "# Alrededor de una funcion lineal conocida y = 1.2x + 0.7\n",
    "n_samples = 300\n",
    "ruido_blanco_std = 2\n",
    "X = np.random.randn(n_samples, 1)\n",
    "for_bias = np.ones([n_samples, 1])\n",
    "X_augmented = np.concatenate([for_bias, X], axis=-1)\n",
    "eps = np.random.randn(n_samples, 1) * ruido_blanco_std\n",
    "ideal_w = [[5], [1.2]]\n",
    "target_y = X_augmented @ ideal_w + eps\n",
    "\n",
    "# Dividir en entrenamiento y validación\n",
    "n_val_dp = n_samples//3\n",
    "x_train = X_augmented[:-n_val_dp,:]\n",
    "y_train = target_y[:-n_val_dp]\n",
    "\n",
    "x_val = X_augmented[-n_val_dp:,:]\n",
    "y_val = target_y[-n_val_dp:]\n",
    "\n",
    "print(x_train.shape, x_val.shape)\n",
    "# Graficar set de entrenamiento\n",
    "plt.scatter(x_train[:,-1], y_train)"
   ]
  },
  {
   "attachments": {},
   "cell_type": "markdown",
   "metadata": {},
   "source": [
    "## Función de costo\n",
    "Ya que hemos cargado el dataset y sabemos como está compuesto, debemos calcular la función de costo\n",
    "\n",
    "$ MSE = J(w) = \\frac{1}{2n} \\sum_{i=1}^{n} (\\hat{Y}_i - Y_i)^2 $"
   ]
  },
  {
   "cell_type": "code",
   "execution_count": 2,
   "metadata": {},
   "outputs": [
    {
     "ename": "ValueError",
     "evalue": "operands could not be broadcast together with shapes (300,1) (200,1) ",
     "output_type": "error",
     "traceback": [
      "\u001b[1;31m---------------------------------------------------------------------------\u001b[0m",
      "\u001b[1;31mValueError\u001b[0m                                Traceback (most recent call last)",
      "Cell \u001b[1;32mIn[2], line 20\u001b[0m\n\u001b[0;32m     16\u001b[0m \u001b[39m# w_hat = np.linalg.inv(x_train.T @ x_train) @ x_train.T @ target_y\u001b[39;00m\n\u001b[0;32m     17\u001b[0m \n\u001b[0;32m     18\u001b[0m \u001b[39m# TODO: Calcula las preddiciones para el conjunto de entrenamiento x_train\u001b[39;00m\n\u001b[0;32m     19\u001b[0m y_pred \u001b[39m=\u001b[39m x_train \u001b[39m@\u001b[39m w\n\u001b[1;32m---> 20\u001b[0m e \u001b[39m=\u001b[39m target_y \u001b[39m-\u001b[39m y_pred\n\u001b[0;32m     21\u001b[0m \u001b[39m# sumatoria de erroes y la prediccion de y\u001b[39;00m\n\u001b[0;32m     22\u001b[0m resuidio \u001b[39m=\u001b[39m \u001b[39msum\u001b[39m(e\u001b[39m*\u001b[39m\u001b[39m*\u001b[39m\u001b[39m2\u001b[39m)\n",
      "\u001b[1;31mValueError\u001b[0m: operands could not be broadcast together with shapes (300,1) (200,1) "
     ]
    }
   ],
   "source": [
    "def mse_loss(y, y_pred):\n",
    "    \"\"\"\n",
    "        Regresa el error cuadrático promedio de todas las predicciones\n",
    "        y: shape=N Etiquetas\n",
    "        y_pred: predicciones del modelo\n",
    "    \"\"\"\n",
    "    # TODO: Calcula el resultado de la función de costo\n",
    "    # ====== Start of solution =====\n",
    "    n = len(y)\n",
    "    loss = np.sum((y_pred - y) ** 2) / n\n",
    "    return loss\n",
    "    # ====== End of solution =====\n",
    "\n",
    "# Iniciamos con unos parametros w arbitrarios\n",
    "w = np.random.uniform(-10, 10, size=(2, 1))\n",
    "# w_hat = np.linalg.inv(x_train.T @ x_train) @ x_train.T @ target_y\n",
    "\n",
    "# TODO: Calcula las preddiciones para el conjunto de entrenamiento x_train\n",
    "y_pred = x_train @ w\n",
    "e = target_y - y_pred\n",
    "# sumatoria de erroes y la prediccion de y\n",
    "resuidio = sum(e**2)\n",
    "# TODO: Calcula la función de costo para las predicciones(y_pred) y los valores reales (y_train)\n",
    "# ====== Start of solution =====\n",
    "loss = mse_loss(y_train, y_pred)\n",
    "print(loss)\n",
    "# ====== End of solution =====\n"
   ]
  },
  {
   "cell_type": "markdown",
   "metadata": {},
   "source": []
  },
  {
   "attachments": {},
   "cell_type": "markdown",
   "metadata": {},
   "source": [
    "Podemos visualizar como se ve la función de costo con diferentes pesos.\n",
    "Si elegimos los pesos que generan el menor costo en el set habremos encontrado los parametros ideales para este problema."
   ]
  },
  {
   "cell_type": "code",
   "execution_count": null,
   "metadata": {},
   "outputs": [],
   "source": [
    "# Probaremos con 100x100 combinaciones de distintos parametros\n",
    "w0 = np.linspace(-10, 10, 100)\n",
    "w1 = np.linspace(-10, 10, 100)\n",
    "w0w0, w1w1 = np.meshgrid(w0, w1)\n",
    "w0_flat = w0w0.ravel()\n",
    "w1_flat = w1w1.ravel()\n",
    "W = np.stack([w0_flat, w1_flat], axis=0)\n",
    "\n",
    "# Calculamos la función de costo\n",
    "# TODO: calcula el costo de las predicciones (y_pred) contra etiquetas (y_train)\n",
    "# usando las 100x100 combindaciones de parametros (W)\n",
    "# ====== Start of solution =====\n",
    "y_pred = x_train @ W\n",
    "calc_cost = (1/(2*y_train.shape[0]))*sum((y_train-y_pred)**2)\n",
    "# ====== End of solution =====\n",
    "\n",
    "# Graficamos los parametros w con su respectivo costo en el eje de las x\n",
    "fig = plt.figure()\n",
    "ax = fig.add_subplot(projection='3d')\n",
    "ax.scatter(w0_flat, w1_flat, calc_cost)\n",
    "\n",
    "# TODO: Escribe a qué valor corresponde cada eje\n",
    "# ====== Start of solution =====\n",
    "ax.set_xlabel(-10)\n",
    "ax.set_ylabel(10)\n",
    "ax.set_zlabel(100)\n",
    "# ====== End of solution =====\n",
    "plt.show()\n"
   ]
  },
  {
   "cell_type": "code",
   "execution_count": null,
   "metadata": {},
   "outputs": [
    {
     "ename": "NameError",
     "evalue": "name 'np' is not defined",
     "output_type": "error",
     "traceback": [
      "\u001b[1;31m---------------------------------------------------------------------------\u001b[0m",
      "\u001b[1;31mNameError\u001b[0m                                 Traceback (most recent call last)",
      "Cell \u001b[1;32mIn[3], line 3\u001b[0m\n\u001b[0;32m      1\u001b[0m \u001b[39m# Podemos encontrar la combinación de pesos que minimizan el costo\u001b[39;00m\n\u001b[0;32m      2\u001b[0m \u001b[39m# Y de esta manera encontrar los pesos ideales\u001b[39;00m\n\u001b[1;32m----> 3\u001b[0m best_idx \u001b[39m=\u001b[39m np\u001b[39m.\u001b[39margmin(calc_cost)\n\u001b[0;32m      4\u001b[0m search_w0 \u001b[39m=\u001b[39m w0_flat[best_idx]\n\u001b[0;32m      5\u001b[0m search_w1 \u001b[39m=\u001b[39m w1_flat[best_idx]\n",
      "\u001b[1;31mNameError\u001b[0m: name 'np' is not defined"
     ]
    }
   ],
   "source": [
    "# Podemos encontrar la combinación de pesos que minimizan el costo\n",
    "# Y de esta manera encontrar los pesos ideales\n",
    "best_idx = np.argmin(calc_cost)\n",
    "search_w0 = w0_flat[best_idx]\n",
    "search_w1 = w1_flat[best_idx]\n",
    "search_w = [[search_w0], [search_w1]] \n",
    "\n",
    "plt.scatter(X, target_y)\n",
    "# TODO: Grafica la línea de regresión generada por tu modelo search_w\n",
    "# Encima de las muestras dadas\n",
    "# ====== Start of solution =====\n",
    "pred_y = x_train @ search_w\n",
    "plt.plot(X, pred_y, 'r')\n",
    "# ====== End of solution =====\n"
   ]
  },
  {
   "attachments": {},
   "cell_type": "markdown",
   "metadata": {},
   "source": [
    "En el código anterior evaluamos $100 \\times 100$ combinaciones de pesos posibles y encontramos los mejores pesos. En este caso solo tenemos 2 parametros que queremos estimar, por lo que encontrar la solución de esta manera es factible al tener que realizar alrededor de $100^2$ evaluaciones de la función. \n",
    "\n",
    "<b>TODO: Contesta las siguientes preguntas</b> \n",
    "- ¿Cuántas evaluaciones de la función de costo tendríamos que hacer si tuviéramos 4 parametros?\n",
    "\n",
    "Asumiendo que utilizamos un grupo de datos similares se puede determinar un total de evaluaciones de $100^4$, lo cual equivale 100,000,000 evaluaciones totales.\n",
    "\n",
    "- ¿Qué pasaría si tuviéramos 1 millon de parametros?\n",
    "\n",
    "Es posible que se puedan evaluar los datos con un sistema suficientemente equipado. Aun asi, el tiempo que puede tomar en realizar esta evaluacion seria demasiado grande. Por ello, se recomienda utilizar un algoritmo o sistema de optimización para (en base a una sección de datos de la totalidad), se determinara un aproximado del cual se pueden realizar suposiciones.\n",
    "\n",
    "Las redes neuronales tienen millones de parametros para hacer predicciones, por lo que encontrar la solución de esta manera no es factible. Se han encontrado formas más eficientes de encontrar la solución por ejemplo, a través de métodos iterativos. Uno de ellos es decenso de gradiente. Siguiendo la direccion contraria del gradiente del costo con respecto a los pesos, podemos encontrar los parámetros que <b>minimizan</b> la función de costo utilizando menos evaluaciones."
   ]
  },
  {
   "attachments": {},
   "cell_type": "markdown",
   "metadata": {},
   "source": [
    "## Descenso de gradiente\n",
    "En esta sección, optimizarás la función de regresión lineal a través de descenso de gradiente.\n",
    "La predicción de nuestro modelo está dada con la siguiente funcion:\n",
    "\n",
    "$ \\hat{Y}_i = w_0 + w_1 * x$\n",
    "\n",
    "$\\hat{Y} = \\mathbf{X}\\mathbf{w}$\n",
    "\n",
    "<!-- El gradiente de MSE con respecto a $w_0$ se calcula de la siguiente manera\n",
    "\n",
    "$ \\frac{\\partial J(w)}{\\partial w_0} = \\frac{\\partial J(w)}{\\partial \\hat{Y}_i} * \\frac{\\partial \\hat{Y}_i}{\\partial w_0}= \\frac{1}{n} \\sum_{i=1}^{n} (\\hat{Y}_i - Y_i) $\n",
    "\n",
    "El gradiente de MSE con respecto a $w_1$ se calcula de la siguiente manera\n",
    "\n",
    "$ \\frac{\\partial J(w)}{\\partial w_1} = \\frac{\\partial J(w)}{\\partial \\hat{Y}_i} * \\frac{\\partial \\hat{Y}_i}{\\partial w_1} = \\frac{1}{n} \\sum_{i=1}^{n} (\\hat{Y}_i - Y_i) * x_i $ -->\n",
    "\n",
    "Donde:\n",
    "- $\\hat{Y}_i \\in  \\hat{Y}$\n",
    "- $\\mathbf{Y} \\in \\mathbb{R}^{N}$\n",
    "- $\\mathbf{X} \\in  \\mathbb{R}^{N \\times D}$ en notación aumentada\n",
    "- $\\mathbf{w} \\in \\mathbb{R}^{D}$ en notación aumentada\n",
    "\n",
    "Como vimos en clase, el gradiente la función de costo con respecto a los pesos está dado por:\n",
    "\n",
    " $\\frac{\\partial J(\\mathbf{w})}{\\partial \\mathbf{w}} = -\\frac{1}{N}X^T\\epsilon$\n",
    "\n",
    " donde $\\epsilon=\\mathbf{Y}-\\mathbf{X}\\mathbf{w}$\n",
    "\n",
    " TODO: Completa el código necesario para aplicar descenso de gradiente durante n_iteraciones. Para ello realiza los siguientes pasos:\n",
    "- Calcula el valor de las predicciones $\\mathbf{Y}$\n",
    "- Calcula el gradiente de la función a optimizar $\\frac{\\partial J(\\mathbf{w})}{\\partial \\mathbf{w}}$\n",
    "- Actualiza los pesos con el gradiente $\\mathbf{w}^{i+1} = \\mathbf{w}^{i} - \\alpha \\frac{\\partial J(\\mathbf{w})}{\\partial \\mathbf{w}}$\n",
    "- Repite hasta optener el valor óptimo de $\\mathbf{w}$\n",
    "\n",
    "Es tiempo de programarlo en código"
   ]
  },
  {
   "cell_type": "code",
   "execution_count": null,
   "metadata": {},
   "outputs": [],
   "source": [
    "def gradient_descent(X, y, lr, N_iterations, w_start=np.array([0,0])):\n",
    "    \"\"\"\n",
    "    Entradas:\n",
    "    X: arreglo con los datos en notación aumentada X\n",
    "    y: vector de etiquetas\n",
    "    lr: ritmo de aprendizaje\n",
    "    N_iterations: cantidad de iteraciones de optimización\n",
    "    w_start: pesos iniciales\n",
    "        \n",
    "    Regresa:  \n",
    "    w_opt: pesos óptimos\n",
    "    cost_history: arreglo con el valor del costo para cada iteración\n",
    "    \"\"\"\n",
    "    m = X.shape[0]\n",
    "    \n",
    "    # initialize the coefficients\n",
    "    w=w_start\n",
    "    \n",
    "    for i in range(N_iterations):\n",
    "        # ====== Start of solution =====\n",
    "        # TODO: Calcula la predicción \n",
    "        hypothesis = X @ w\n",
    "\n",
    "        # TODO: Calcula el error\n",
    "        error = y - hypothesis\n",
    "\n",
    "        # TODO: Calcula el gradiente del MSE loss\n",
    "        gradiente = -(1/m) @ X.T @ error\n",
    "\n",
    "        # TODO: Actualiza los pesos\n",
    "        w = w - gradiente * lr\n",
    "        \n",
    "        # ====== End of solution =====\n",
    "        # Calculamos la función de costo y guardamos el resultado\n",
    "        loss = mse_loss(y, hypothesis)\n",
    "\n",
    "    print(f\"Total de evaluaciones {i}, el costo final fue {loss}\")\n",
    "    w_opt=w\n",
    "    return w_opt\n"
   ]
  },
  {
   "cell_type": "code",
   "execution_count": null,
   "metadata": {},
   "outputs": [],
   "source": [
    "from sklearn import linear_model\n",
    "# Parámetros de descenso de gradiente\n",
    "N_iterations = [50,60,80]\n",
    "\n",
    "# Pesos iniciales y ritmo de aprendizaje\n",
    "lr = 0.1  # Utiliza valores cercanos e.g. 0.05, 0.2 .. etc\n",
    "w_start = np.array([-400,0])\n",
    "w_start = np.expand_dims(w_start,-1)\n",
    "\n",
    "# (2.) - (4.) -> Variación de cantidad de iteraciones\n",
    "plt.figure(figsize=(7,7))\n",
    "plt.scatter(x_val[:,-1], y_val)\n",
    "for n_it in N_iterations:\n",
    "    # Entrenamos el modelo en el set de entrenamiento\n",
    "    w_opt = gradient_descent(x_train, y_train, lr, n_it, w_start)\n",
    "\n",
    "    # Visualizamos la predicción en el set de validación\n",
    "    prediction = x_val @ w_opt\n",
    "    plt.plot(x_val[:,-1], prediction, label = str(n_it)+\" Iteraciones de GD\", linewidth=3)\n",
    "\n",
    "# Obtener la solución analítica\n",
    "analitic_sol=linear_model.LinearRegression()\n",
    "analitic_sol.fit(x_train, y_train)\n",
    "\n",
    "# Visualizar solución analitica\n",
    "plt.plot(x_val[:,-1], analitic_sol.predict(x_val),label = 'Solución analítica', linewidth=1, linestyle=\"dashed\", color=\"black\")\n",
    "# plt.ylim(bottom=-10)\n",
    "plt.legend()\n",
    "plt.show()"
   ]
  },
  {
   "attachments": {},
   "cell_type": "markdown",
   "metadata": {},
   "source": [
    "<b>TODO: Contesta las siguientes preguntas</b> \n",
    "- ¿Cuántas evaluaciones de la función de costo se evaluaron para encontrar la solución con un $lr=0.1$? ¿Cómo se compara este número a la solución por busqueda exhaustiva? \n",
    "- ¿Qué pasa si cambiamos la tasa de aprendizaje (lr) a un valor dos veces grande?\n",
    "- ¿Qué pasa si cambiamos la tase de aprendizaje a un valor dos veces más chico?\n",
    "- ¿Qué pasa si cambiamos la tasa de aprendizaje (lr) por un valor muy grande?"
   ]
  }
 ],
 "metadata": {
  "kernelspec": {
   "display_name": "sistemas_inteligentes",
   "language": "python",
   "name": "python3"
  },
  "language_info": {
   "codemirror_mode": {
    "name": "ipython",
    "version": 3
   },
   "file_extension": ".py",
   "mimetype": "text/x-python",
   "name": "python",
   "nbconvert_exporter": "python",
   "pygments_lexer": "ipython3",
   "version": "3.11.4"
  },
  "orig_nbformat": 4,
  "vscode": {
   "interpreter": {
    "hash": "04dc998fdd71cb65825f35fa039c285a87c761883882ab18ec8c9090ce63cd9f"
   }
  }
 },
 "nbformat": 4,
 "nbformat_minor": 2
}
